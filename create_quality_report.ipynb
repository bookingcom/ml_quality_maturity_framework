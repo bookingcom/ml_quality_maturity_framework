{
 "cells": [
  {
   "cell_type": "markdown",
   "id": "3b8ce1b7-42b2-4341-9396-8ddd522438ab",
   "metadata": {
    "ExecuteTime": {
     "end_time": "2024-04-11T13:02:24.327384Z",
     "start_time": "2024-04-11T13:02:21.583612Z"
    }
   },
   "source": [
    "# Create a report from a file with gaps per sub-characteristic\n"
   ]
  },
  {
   "cell_type": "code",
   "execution_count": 1,
   "id": "ccdad06f-1fda-48ee-9825-e2c3c359b34f",
   "metadata": {},
   "outputs": [],
   "source": [
    "from IPython.display import IFrame, display\n",
    "from ml_quality.assessments import QualityAssessment\n",
    "from ml_quality.assessment_automation import write_gaps\n",
    "from ml_quality.constants import GAP_FILE_COLUMNS\n",
    "from pathlib import Path\n",
    "import pandas as pd"
   ]
  },
  {
   "cell_type": "markdown",
   "id": "efe8924c-b1d5-4401-ab03-0ac462986e2c",
   "metadata": {},
   "source": [
    "### Initialise a quality assessment"
   ]
  },
  {
   "cell_type": "code",
   "execution_count": 2,
   "id": "1d078f2f-40bc-4308-a713-c5aea9d07737",
   "metadata": {},
   "outputs": [
    {
     "name": "stdout",
     "output_type": "stream",
     "text": [
      "ml_quality_reports/example_team_1/example_system_1/2024-04-01/report.pdf\n"
     ]
    }
   ],
   "source": [
    "assessment = QualityAssessment(\n",
    "                name=\"Example system 1\",\n",
    "                team=\"Example team 1\",\n",
    "                business_criticality=\"production_critical\",\n",
    "                mlp_name=\"Example model 1\",\n",
    "                date=\"2024-04-01\",\n",
    "                model_family=None,\n",
    "            )\n",
    "assessment.set_gaps_from_csv(\"./assessments/inputs/gaps_model_1.csv\")\n",
    "report_path = assessment.create_pdf_report(font_type=\"verdana\")\n",
    "print(report_path)"
   ]
  },
  {
   "cell_type": "markdown",
   "id": "cf529dc1-fa7a-4e52-8fa6-3e4deb1ea5ea",
   "metadata": {},
   "source": [
    "### Visualize report"
   ]
  },
  {
   "cell_type": "code",
   "execution_count": 3,
   "id": "53e0ec9f-a87d-4e25-a0a0-b22fa9a586ca",
   "metadata": {},
   "outputs": [
    {
     "data": {
      "text/html": [
       "\n",
       "        <iframe\n",
       "            width=\"700\"\n",
       "            height=\"400\"\n",
       "            src=\"ml_quality_reports/example_team_1/example_system_1/2024-04-01/report.pdf\"\n",
       "            frameborder=\"0\"\n",
       "            allowfullscreen\n",
       "            \n",
       "        ></iframe>\n",
       "        "
      ],
      "text/plain": [
       "<IPython.lib.display.IFrame at 0x1374cb670>"
      ]
     },
     "execution_count": 3,
     "metadata": {},
     "output_type": "execute_result"
    }
   ],
   "source": [
    "IFrame(report_path, width=700, height=400)"
   ]
  },
  {
   "cell_type": "markdown",
   "id": "60784b1c-a8d4-4b6b-aae7-6085b8d6a26d",
   "metadata": {},
   "source": [
    "### Change assessment parameter e.g. date"
   ]
  },
  {
   "cell_type": "code",
   "execution_count": 4,
   "id": "64cb5a6088db7926",
   "metadata": {
    "ExecuteTime": {
     "end_time": "2024-04-11T12:15:22.467990Z",
     "start_time": "2024-04-11T12:15:21.286146Z"
    },
    "collapsed": false,
    "jupyter": {
     "outputs_hidden": false
    }
   },
   "outputs": [
    {
     "data": {
      "text/plain": [
       "'ml_quality_reports/example_team_1/example_system_1/2024-04-03/report.pdf'"
      ]
     },
     "execution_count": 4,
     "metadata": {},
     "output_type": "execute_result"
    }
   ],
   "source": [
    "assessment.set_gap(\"accuracy\", \"large\")\n",
    "assessment.date = \"2024-04-03\"\n",
    "assessment.create_pdf_report(font_type=\"verdana\")"
   ]
  },
  {
   "cell_type": "markdown",
   "id": "007c0caa-5255-43a5-bf40-17dca5d2e983",
   "metadata": {},
   "source": [
    "### Generate another quality assessment report from a different input"
   ]
  },
  {
   "cell_type": "code",
   "execution_count": 5,
   "id": "7606cf45-6ca9-4cb3-b423-1be819948eb8",
   "metadata": {
    "ExecuteTime": {
     "end_time": "2024-04-11T13:04:55.745915Z",
     "start_time": "2024-04-11T13:04:54.110352Z"
    }
   },
   "outputs": [],
   "source": [
    "assessment = QualityAssessment(\n",
    "                name=\"Example system 2\",\n",
    "                team=\"Example team 2\",\n",
    "                business_criticality=\"production_critical\",\n",
    "                mlp_name=\"Example model 2\",\n",
    "                date=\"2023-12-01\",\n",
    "                model_family=None,\n",
    "            )\n",
    "assessment.set_gaps_from_csv(\"./assessments/inputs/gaps_model_2.csv\")\n",
    "report_path = assessment.create_pdf_report(font_type=\"verdana\")"
   ]
  },
  {
   "cell_type": "code",
   "execution_count": 6,
   "id": "5365ec60-4b95-439f-8bb1-9d2086df2a43",
   "metadata": {},
   "outputs": [
    {
     "data": {
      "text/html": [
       "\n",
       "        <iframe\n",
       "            width=\"700\"\n",
       "            height=\"400\"\n",
       "            src=\"ml_quality_reports/example_team_2/example_system_2/2023-12-01/report.pdf\"\n",
       "            frameborder=\"0\"\n",
       "            allowfullscreen\n",
       "            \n",
       "        ></iframe>\n",
       "        "
      ],
      "text/plain": [
       "<IPython.lib.display.IFrame at 0x137555250>"
      ]
     },
     "execution_count": 6,
     "metadata": {},
     "output_type": "execute_result"
    }
   ],
   "source": [
    "IFrame(report_path, width=700, height=400)"
   ]
  },
  {
   "cell_type": "markdown",
   "id": "a178b5ac-aec4-4cfb-91bd-e80518ab09f5",
   "metadata": {},
   "source": [
    "# Generate technical gaps per model from ML registry data"
   ]
  },
  {
   "cell_type": "code",
   "execution_count": 7,
   "id": "0281c6ad-f5a9-42dd-899b-331cbbd9843d",
   "metadata": {},
   "outputs": [
    {
     "data": {
      "text/html": [
       "<div>\n",
       "<style scoped>\n",
       "    .dataframe tbody tr th:only-of-type {\n",
       "        vertical-align: middle;\n",
       "    }\n",
       "\n",
       "    .dataframe tbody tr th {\n",
       "        vertical-align: top;\n",
       "    }\n",
       "\n",
       "    .dataframe thead th {\n",
       "        text-align: right;\n",
       "    }\n",
       "</style>\n",
       "<table border=\"1\" class=\"dataframe\">\n",
       "  <thead>\n",
       "    <tr style=\"text-align: right;\">\n",
       "      <th></th>\n",
       "      <th>model_name</th>\n",
       "      <th>archived</th>\n",
       "      <th>alias</th>\n",
       "      <th>uri</th>\n",
       "      <th>version</th>\n",
       "      <th>short_description</th>\n",
       "      <th>long_description</th>\n",
       "      <th>team_name</th>\n",
       "      <th>team_id</th>\n",
       "      <th>department_name</th>\n",
       "      <th>...</th>\n",
       "      <th>report_url</th>\n",
       "      <th>quality_score</th>\n",
       "      <th>business_criticality</th>\n",
       "      <th>maturity</th>\n",
       "      <th>expected_maturity</th>\n",
       "      <th>model_family</th>\n",
       "      <th>raq_questionnaire_filled_in</th>\n",
       "      <th>number_applications_using_the_model</th>\n",
       "      <th>model_is_of_strategic_importance</th>\n",
       "      <th>yyyy_mm_dd</th>\n",
       "    </tr>\n",
       "  </thead>\n",
       "  <tbody>\n",
       "    <tr>\n",
       "      <th>0</th>\n",
       "      <td>model1</td>\n",
       "      <td>False</td>\n",
       "      <td>mt_safe_search</td>\n",
       "      <td>ml-asset:static-model/model1/0.0.1</td>\n",
       "      <td>0.0.1</td>\n",
       "      <td>My model 1 description</td>\n",
       "      <td>The model is awesome and improves KPI by 100%</td>\n",
       "      <td>teamA</td>\n",
       "      <td>60007795</td>\n",
       "      <td>departmentA</td>\n",
       "      <td>...</td>\n",
       "      <td>\"\"</td>\n",
       "      <td>30</td>\n",
       "      <td>poc</td>\n",
       "      <td>0</td>\n",
       "      <td>1</td>\n",
       "      <td>NaN</td>\n",
       "      <td>None</td>\n",
       "      <td>0</td>\n",
       "      <td>1</td>\n",
       "      <td>2024-03-22</td>\n",
       "    </tr>\n",
       "    <tr>\n",
       "      <th>1</th>\n",
       "      <td>model2</td>\n",
       "      <td>False</td>\n",
       "      <td>flights_top_airlines</td>\n",
       "      <td>ml-asset:static-model/model2/0.0.1</td>\n",
       "      <td>0.0.1</td>\n",
       "      <td>My model 2 description</td>\n",
       "      <td>The model is awesome and improves KPI by 100%</td>\n",
       "      <td>teamB</td>\n",
       "      <td>60006424</td>\n",
       "      <td>departmentB</td>\n",
       "      <td>...</td>\n",
       "      <td>\"\"</td>\n",
       "      <td>30</td>\n",
       "      <td>poc</td>\n",
       "      <td>0</td>\n",
       "      <td>1</td>\n",
       "      <td>NaN</td>\n",
       "      <td>None</td>\n",
       "      <td>0</td>\n",
       "      <td>0</td>\n",
       "      <td>2024-03-22</td>\n",
       "    </tr>\n",
       "  </tbody>\n",
       "</table>\n",
       "<p>2 rows × 75 columns</p>\n",
       "</div>"
      ],
      "text/plain": [
       "  model_name  archived                 alias  \\\n",
       "0     model1     False        mt_safe_search   \n",
       "1     model2     False  flights_top_airlines   \n",
       "\n",
       "                                  uri version       short_description  \\\n",
       "0  ml-asset:static-model/model1/0.0.1   0.0.1  My model 1 description   \n",
       "1  ml-asset:static-model/model2/0.0.1   0.0.1  My model 2 description   \n",
       "\n",
       "                                 long_description team_name   team_id  \\\n",
       "0  The model is awesome and improves KPI by 100%      teamA  60007795   \n",
       "1  The model is awesome and improves KPI by 100%      teamB  60006424   \n",
       "\n",
       "  department_name  ...  report_url quality_score  business_criticality  \\\n",
       "0     departmentA  ...          \"\"            30                   poc   \n",
       "1     departmentB  ...          \"\"            30                   poc   \n",
       "\n",
       "  maturity  expected_maturity model_family  raq_questionnaire_filled_in  \\\n",
       "0        0                  1          NaN                         None   \n",
       "1        0                  1          NaN                         None   \n",
       "\n",
       "  number_applications_using_the_model model_is_of_strategic_importance  \\\n",
       "0                                   0                                1   \n",
       "1                                   0                                0   \n",
       "\n",
       "   yyyy_mm_dd  \n",
       "0  2024-03-22  \n",
       "1  2024-03-22  \n",
       "\n",
       "[2 rows x 75 columns]"
      ]
     },
     "execution_count": 7,
     "metadata": {},
     "output_type": "execute_result"
    }
   ],
   "source": [
    "# Load ml registry data\n",
    "df_registry = pd.read_csv(\"./ml_registry_example.csv\")\n",
    "df_registry.head()"
   ]
  },
  {
   "cell_type": "code",
   "execution_count": 9,
   "id": "714a1a6a-0940-4fdf-90bb-29b149d99137",
   "metadata": {},
   "outputs": [
    {
     "name": "stdout",
     "output_type": "stream",
     "text": [
      "Index(['sub_characteristic', 'gap_value', 'url', 'reasoning', 'model_name',\n",
      "       'team_name', 'business_criticality', 'model_family'],\n",
      "      dtype='object')\n",
      "Index(['sub_characteristic', 'gap_value', 'url', 'reasoning', 'model_name',\n",
      "       'team_name', 'business_criticality', 'model_family'],\n",
      "      dtype='object')\n"
     ]
    }
   ],
   "source": [
    "output_dir = Path(\"gaps_from_registry\")\n",
    "output_dir.mkdir(parents=True, exist_ok=True)\n",
    "\n",
    "for m in df_registry.model_name:\n",
    "    df_model = df_registry[df_registry.model_name==m]\n",
    "    df_gaps = write_gaps(df_model.iterrows(), df_registry.columns)\n",
    "    pd.DataFrame(df_gaps, columns=GAP_FILE_COLUMNS).to_csv(output_dir / f\"gaps_{m}.csv\")"
   ]
  },
  {
   "cell_type": "code",
   "execution_count": null,
   "id": "8a3117f7-e43f-4373-939c-ca46cd2027a4",
   "metadata": {},
   "outputs": [],
   "source": []
  }
 ],
 "metadata": {
  "kernelspec": {
   "display_name": "venv",
   "language": "python",
   "name": "venv"
  },
  "language_info": {
   "codemirror_mode": {
    "name": "ipython",
    "version": 3
   },
   "file_extension": ".py",
   "mimetype": "text/x-python",
   "name": "python",
   "nbconvert_exporter": "python",
   "pygments_lexer": "ipython3",
   "version": "3.9.18"
  }
 },
 "nbformat": 4,
 "nbformat_minor": 5
}
